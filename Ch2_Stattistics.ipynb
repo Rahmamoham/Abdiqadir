{
 "cells": [
  {
   "cell_type": "code",
   "execution_count": 10,
   "id": "c5605762",
   "metadata": {},
   "outputs": [],
   "source": [
    "import numpy as np\n",
    "#option1\n",
    "#salary=[10,11,11,15,15,15,19,20,21,21,22,22,24,25]\n",
    "#salary=np.array(salary)"
   ]
  },
  {
   "cell_type": "code",
   "execution_count": 11,
   "id": "706e1f36",
   "metadata": {},
   "outputs": [],
   "source": [
    "#option2\n",
    "salary=np.array([10,11,11,15,15,15,19,20,21,21,22,22,24,25])"
   ]
  },
  {
   "cell_type": "markdown",
   "id": "c53aaf41",
   "metadata": {},
   "source": [
    "### Statistical Calculations"
   ]
  },
  {
   "cell_type": "code",
   "execution_count": 13,
   "id": "6365d10c",
   "metadata": {},
   "outputs": [],
   "source": [
    "varaince=np.var(salary)\n",
    "salaryMedian=np.median(salary)\n",
    "avg=np.mean(salary) #mean\n",
    "st=np.std(salary) #standard Deviation\n",
    "salaryRange=np.ptp(salary)\n",
    "Q1=np.percentile(salary,25)\n",
    "Q2=np.percentile(salary,50)\n",
    "Quarile3=np.percentile(salary,75)\n",
    "salaryMedian=np.median(salary)"
   ]
  },
  {
   "cell_type": "code",
   "execution_count": 18,
   "id": "078b3f54",
   "metadata": {},
   "outputs": [
    {
     "name": "stdout",
     "output_type": "stream",
     "text": [
      "mean is 17.9 , median is 19.5, varaince is 23.49489795918367\n"
     ]
    }
   ],
   "source": [
    "print(f\"mean is {round(avg,1)} , median is {salaryMedian}, varaince is {varaince}\")"
   ]
  },
  {
   "cell_type": "code",
   "execution_count": 15,
   "id": "d96f4504",
   "metadata": {},
   "outputs": [
    {
     "name": "stdout",
     "output_type": "stream",
     "text": [
      "Quarile #1 15.0, standard deviation is 4.85\n"
     ]
    }
   ],
   "source": [
    "print(f\"Quarile #1 {Q1}, standard deviation is {round(st,2)}\")"
   ]
  },
  {
   "cell_type": "code",
   "execution_count": 16,
   "id": "95071c64",
   "metadata": {},
   "outputs": [
    {
     "name": "stdout",
     "output_type": "stream",
     "text": [
      "InterQuartile is 6.75\n"
     ]
    }
   ],
   "source": [
    "print(f\"InterQuartile is {Quarile3-Q1}\")"
   ]
  },
  {
   "cell_type": "markdown",
   "id": "c3b20038",
   "metadata": {},
   "source": [
    "### For mode purpose"
   ]
  },
  {
   "cell_type": "code",
   "execution_count": 19,
   "id": "a4fbbceb",
   "metadata": {},
   "outputs": [],
   "source": [
    "import statistics as stats"
   ]
  },
  {
   "cell_type": "code",
   "execution_count": 20,
   "id": "99ae38f3",
   "metadata": {},
   "outputs": [],
   "source": [
    "salaryMode=stats.mode(salary)"
   ]
  },
  {
   "cell_type": "code",
   "execution_count": 21,
   "id": "7d1ac982",
   "metadata": {},
   "outputs": [
    {
     "data": {
      "text/plain": [
       "15"
      ]
     },
     "execution_count": 21,
     "metadata": {},
     "output_type": "execute_result"
    }
   ],
   "source": [
    "salaryMode"
   ]
  },
  {
   "cell_type": "markdown",
   "id": "49583ab1",
   "metadata": {},
   "source": [
    "# Solve the following Student marks for a  given parameters:-\n",
    "#### mean\n",
    "#### median\n",
    "#### mode\n",
    "#### Variance\n",
    "#### Standard Deviation\n",
    "#### Q1, Q2, Q3\n",
    "#### Range"
   ]
  },
  {
   "cell_type": "markdown",
   "id": "e28de2d4",
   "metadata": {},
   "source": [
    "marks=[51,55,60,62,70,71,80,85,88,90,92,92]"
   ]
  },
  {
   "cell_type": "code",
   "execution_count": null,
   "id": "06347e34",
   "metadata": {},
   "outputs": [],
   "source": []
  }
 ],
 "metadata": {
  "kernelspec": {
   "display_name": "Python 3",
   "language": "python",
   "name": "python3"
  },
  "language_info": {
   "codemirror_mode": {
    "name": "ipython",
    "version": 3
   },
   "file_extension": ".py",
   "mimetype": "text/x-python",
   "name": "python",
   "nbconvert_exporter": "python",
   "pygments_lexer": "ipython3",
   "version": "3.8.8"
  }
 },
 "nbformat": 4,
 "nbformat_minor": 5
}
